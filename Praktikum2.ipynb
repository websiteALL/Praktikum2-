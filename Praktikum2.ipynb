{
 "cells": [
  {
   "cell_type": "code",
   "execution_count": 2,
   "id": "bde469f1-a0ee-480d-bbfd-37657e3b6046",
   "metadata": {
    "scrolled": true
   },
   "outputs": [
    {
     "name": "stdout",
     "output_type": "stream",
     "text": [
      "Plain Text is : HAII SAYA ALPRIDEL, SAYA ADALAH SEORANG WEB DEVELOPR\n",
      "Shift pattern is : 1\n",
      "Cipher Text is : IBJJ TBZB BMQSJEFMa TBZB BEBMBI TFPSBOH XFC EFWFMPQS\n"
     ]
    }
   ],
   "source": [
    "def encrypt_text(plaintext, n):\n",
    "    ans = \"\"\n",
    "    # iterate over the given text\n",
    "    for i in range(len(plaintext)):\n",
    "        ch = plaintext[i]\n",
    "\n",
    "        # check if space is there then simply add space\n",
    "        if ch == \" \":\n",
    "            ans += \" \"\n",
    "        # check if a character is uppercase then encrypt it accordingly\n",
    "        elif ch.isupper():\n",
    "            ans += chr((ord(ch) + n - 65) % 26 + 65)\n",
    "        # check if a character is lowercase then encrypt it accordingly\n",
    "        else:\n",
    "            ans += chr((ord(ch) + n - 97) % 26 + 97)\n",
    "\n",
    "    return ans\n",
    "\n",
    "plaintext = \"HAII SAYA ALPRIDEL, SAYA ADALAH SEORANG WEB DEVELOPR\"\n",
    "n = 1\n",
    "print(\"Plain Text is : \" + plaintext)\n",
    "print(\"Shift pattern is : \" + str(n))\n",
    "print(\"Cipher Text is : \" + encrypt_text(plaintext, n))\n"
   ]
  }
 ],
 "metadata": {
  "kernelspec": {
   "display_name": "anaconda-panel-2023.05-py310",
   "language": "python",
   "name": "conda-env-anaconda-panel-2023.05-py310-py"
  },
  "language_info": {
   "codemirror_mode": {
    "name": "ipython",
    "version": 3
   },
   "file_extension": ".py",
   "mimetype": "text/x-python",
   "name": "python",
   "nbconvert_exporter": "python",
   "pygments_lexer": "ipython3",
   "version": "3.11.5"
  }
 },
 "nbformat": 4,
 "nbformat_minor": 5
}
